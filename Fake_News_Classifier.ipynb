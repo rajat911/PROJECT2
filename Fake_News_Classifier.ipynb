{
 "cells": [
  {
   "cell_type": "code",
   "execution_count": 17,
   "metadata": {},
   "outputs": [],
   "source": [
    "# Importing necessary libraries and packages\n",
    "import numpy as np\n",
    "import pandas as pd\n",
    "import itertools\n",
    "import seaborn as sn\n",
    "import pandas as pd\n",
    "import matplotlib.pyplot as plt\n",
    "from sklearn.model_selection import train_test_split\n",
    "from sklearn.feature_extraction.text import TfidfVectorizer\n",
    "from sklearn.linear_model import PassiveAggressiveClassifier\n",
    "from sklearn.metrics import accuracy_score, confusion_matrix, classification_report"
   ]
  },
  {
   "cell_type": "code",
   "execution_count": 18,
   "metadata": {},
   "outputs": [],
   "source": [
    "# Loading data as numpy array from csv database files\n",
    "train = pd.read_csv('train.csv')\n",
    "test = pd.read_csv('test.csv')\n",
    "test = test.set_index('id', drop = True)"
   ]
  },
  {
   "cell_type": "code",
   "execution_count": 19,
   "metadata": {},
   "outputs": [
    {
     "name": "stdout",
     "output_type": "stream",
     "text": [
      "Shape of Training Data:  (20800, 5)\n",
      "\n",
      " \n",
      " TRAIN \n",
      "    id                                              title              author  \\\n",
      "0   0  House Dem Aide: We Didn’t Even See Comey’s Let...       Darrell Lucus   \n",
      "1   1  FLYNN: Hillary Clinton, Big Woman on Campus - ...     Daniel J. Flynn   \n",
      "2   2                  Why the Truth Might Get You Fired  Consortiumnews.com   \n",
      "3   3  15 Civilians Killed In Single US Airstrike Hav...     Jessica Purkiss   \n",
      "4   4  Iranian woman jailed for fictional unpublished...      Howard Portnoy   \n",
      "\n",
      "                                                text  label  \n",
      "0  House Dem Aide: We Didn’t Even See Comey’s Let...      1  \n",
      "1  Ever get the feeling your life circles the rou...      0  \n",
      "2  Why the Truth Might Get You Fired October 29, ...      1  \n",
      "3  Videos 15 Civilians Killed In Single US Airstr...      1  \n",
      "4  Print \\nAn Iranian woman has been sentenced to...      1  \n",
      "\n",
      " \n",
      " TEST \n",
      "                                                    title  \\\n",
      "id                                                         \n",
      "20800  Specter of Trump Loosens Tongues, if Not Purse...   \n",
      "20801  Russian warships ready to strike terrorists ne...   \n",
      "20802  #NoDAPL: Native American Leaders Vow to Stay A...   \n",
      "20803  Tim Tebow Will Attempt Another Comeback, This ...   \n",
      "20804                    Keiser Report: Meme Wars (E995)   \n",
      "\n",
      "                        author  \\\n",
      "id                               \n",
      "20800         David Streitfeld   \n",
      "20801                      NaN   \n",
      "20802            Common Dreams   \n",
      "20803            Daniel Victor   \n",
      "20804  Truth Broadcast Network   \n",
      "\n",
      "                                                    text  \n",
      "id                                                        \n",
      "20800  PALO ALTO, Calif.  —   After years of scorning...  \n",
      "20801  Russian warships ready to strike terrorists ne...  \n",
      "20802  Videos #NoDAPL: Native American Leaders Vow to...  \n",
      "20803  If at first you don’t succeed, try a different...  \n",
      "20804  42 mins ago 1 Views 0 Comments 0 Likes 'For th...  \n",
      "\n",
      " \n",
      "Number of Null values in Train Set:  39\n",
      "Number of Null values in Test Set:  7\n"
     ]
    }
   ],
   "source": [
    "# Counting number of rows and columns in the data\n",
    "print('Shape of Training Data: ', train.shape)\n",
    "\n",
    "# Gettiing a hang of the data in each column and their names\n",
    "print('\\n \\n TRAIN \\n', train.head())\n",
    "print('\\n \\n TEST \\n', test.head())\n",
    "\n",
    "# Looking for any places where training data has NaN values\n",
    "print('\\n \\nNumber of Null values in Train Set: ', train['text'].isna().sum())\n",
    "print('Number of Null values in Test Set: ', test['text'].isna().sum())\n",
    "\n",
    "# Dropping all rows where text column is NaN\n",
    "train.dropna(axis=0, how=\"any\", thresh=None, subset=['text'], inplace=True)\n",
    "test = test.fillna(' ')"
   ]
  },
  {
   "cell_type": "code",
   "execution_count": 20,
   "metadata": {},
   "outputs": [
    {
     "name": "stdout",
     "output_type": "stream",
     "text": [
      "1 142961 4553\n"
     ]
    }
   ],
   "source": [
    "# Checking length of each article\n",
    "length = []\n",
    "[length.append(len(str(text))) for text in train['text']]\n",
    "train['length'] = length\n",
    "\n",
    "print(min(train['length']), max(train['length']), round(sum(train['length'])/len(train['length'])))"
   ]
  },
  {
   "cell_type": "code",
   "execution_count": 21,
   "metadata": {},
   "outputs": [
    {
     "name": "stdout",
     "output_type": "stream",
     "text": [
      "207\n",
      "82                                                   \n",
      "169                                                  \n",
      "173                                   Guest   Guest  \n",
      "196            They got the heater turned up on high.\n",
      "295                                                  \n",
      "                             ...                     \n",
      "20350                         I hope nobody got hurt!\n",
      "20418                                 Guest   Guest  \n",
      "20431    \\nOctober 28, 2016 The Mothers by stclair by\n",
      "20513                                                \n",
      "20636                              Trump all the way!\n",
      "Name: text, Length: 207, dtype: object\n",
      "50 142961 4598\n"
     ]
    }
   ],
   "source": [
    "# Minimum length is 1. We need to spot some outliers and get rid of them. Counting how many outliers are there\n",
    "print(len(train[train['length'] < 50]))\n",
    "\n",
    "# Skimming through such short texts just to be sure\n",
    "print(train['text'][train['length'] < 50])\n",
    "\n",
    "# Removing outliers, it will reduce overfitting\n",
    "train = train.drop(train['text'][train['length'] < 50].index, axis = 0)\n",
    "\n",
    "print(min(train['length']), max(train['length']), round(sum(train['length'])/len(train['length'])))"
   ]
  },
  {
   "cell_type": "code",
   "execution_count": 22,
   "metadata": {},
   "outputs": [],
   "source": [
    "# Secluding labels in a new pandas dataframe for supervised learning\n",
    "train_labels = train['label']\n",
    "\n",
    "# Splitting data into training and testing sets\n",
    "x_train, x_test, y_train, y_test = train_test_split(train['text'], train_labels, test_size=0.1, random_state=0)"
   ]
  },
  {
   "cell_type": "code",
   "execution_count": 23,
   "metadata": {},
   "outputs": [],
   "source": [
    "# Setting up Term Frequency - Inverse Document Frequency Vectorizer\n",
    "tfidf = TfidfVectorizer(stop_words = 'english', max_df = 0.7)\n",
    "\n",
    "# Fit and transform training set and transform test set\n",
    "tfidf_train = tfidf.fit_transform(x_train) \n",
    "tfidf_test = tfidf.transform(x_test)\n",
    "tfidf_test_final = tfidf.transform(test['text'])"
   ]
  },
  {
   "cell_type": "code",
   "execution_count": 24,
   "metadata": {},
   "outputs": [
    {
     "name": "stdout",
     "output_type": "stream",
     "text": [
      "Accuracy: 96.89%\n"
     ]
    }
   ],
   "source": [
    "# Setting up Passive Aggressive Classifier\n",
    "pac = PassiveAggressiveClassifier(max_iter = 50)\n",
    "\n",
    "# Fitting on the training set\n",
    "pac.fit(tfidf_train, y_train)\n",
    "\n",
    "# Predicting on the test set\n",
    "y_pred = pac.predict(tfidf_test)\n",
    "score = accuracy_score(y_test, y_pred)\n",
    "print(f'Accuracy: {round(score * 100, 2)}%')"
   ]
  },
  {
   "cell_type": "code",
   "execution_count": 25,
   "metadata": {},
   "outputs": [
    {
     "data": {
      "image/png": "[encoded data removed]",
      "text/plain": [
       "<Figure size 432x288 with 2 Axes>"
      ]
     },
     "metadata": {},
     "output_type": "display_data"
    },
    {
     "name": "stdout",
     "output_type": "stream",
     "text": [
      "\n",
      "Classification Report: \n",
      "               precision    recall  f1-score   support\n",
      "\n",
      "           0       0.97      0.97      0.97      1065\n",
      "           1       0.96      0.97      0.97       991\n",
      "\n",
      "    accuracy                           0.97      2056\n",
      "   macro avg       0.97      0.97      0.97      2056\n",
      "weighted avg       0.97      0.97      0.97      2056\n",
      "\n"
     ]
    }
   ],
   "source": [
    "# Creating confusion matrix with columns as True Positive, False Negative, False Positive and True Negative \n",
    "cm = confusion_matrix(y_test, y_pred, labels=[0, 1])\n",
    "df_cm = pd.DataFrame(cm, range(2), range(2))\n",
    "sn.set(font_scale=1)\n",
    "sn.heatmap(df_cm, annot=True, annot_kws={'size':14}, fmt='d').set_title('Confusion Matrix')\n",
    "plt.show()\n",
    "\n",
    "# Creating classification report\n",
    "print('\\nClassification Report: \\n', classification_report(y_test, (y_pred > 0.5)))"
   ]
  },
  {
   "cell_type": "code",
   "execution_count": null,
   "metadata": {},
   "outputs": [],
   "source": []
  }
 ],
 "metadata": {
  "kernelspec": {
   "display_name": "Python 3",
   "language": "python",
   "name": "python3"
  },
  "language_info": {
   "codemirror_mode": {
    "name": "ipython",
    "version": 3
   },
   "file_extension": ".py",
   "mimetype": "text/x-python",
   "name": "python",
   "nbconvert_exporter": "python",
   "pygments_lexer": "ipython3",
   "version": "3.8.3"
  }
 },
 "nbformat": 4,
 "nbformat_minor": 4
}
